{
 "cells": [
  {
   "cell_type": "code",
   "execution_count": 1,
   "metadata": {},
   "outputs": [],
   "source": [
    "augmented_data_path = \"/Users/noahwiley/Downloads/Aero/afdf.csv\"\n",
    "all_configs_data_path = \"/Users/noahwiley/Downloads/Aero/Allconfigsfinal.csv\""
   ]
  },
  {
   "cell_type": "code",
   "execution_count": 2,
   "metadata": {},
   "outputs": [],
   "source": [
    "import pandas as pd\n",
    "\n"
   ]
  },
  {
   "cell_type": "code",
   "execution_count": 3,
   "metadata": {},
   "outputs": [],
   "source": [
    "aug_df = pd.read_csv(augmented_data_path)\n",
    "all_config_df = pd.read_csv(all_configs_data_path)"
   ]
  },
  {
   "cell_type": "code",
   "execution_count": 6,
   "metadata": {},
   "outputs": [],
   "source": [
    "all_with_aug_df = all_config_df.merge(aug_df, left_on=\"Unnamed: 0\", right_on=\"Unnamed: 0\", how=\"inner\")"
   ]
  },
  {
   "cell_type": "code",
   "execution_count": 14,
   "metadata": {},
   "outputs": [
    {
     "name": "stdout",
     "output_type": "stream",
     "text": [
      "        Config ID  SaddleY@Mainsketch  UpperLeg@Mainsketch   \n",
      "0     Config_0000            0.732300             0.408735  \\\n",
      "1     Config_0001            0.569000             0.378941   \n",
      "2     Config_0002            0.328400             0.423010   \n",
      "3     Config_0003            0.719000             0.373837   \n",
      "4     Config_0004            0.573000             0.434524   \n",
      "...           ...                 ...                  ...   \n",
      "9995  Config_9995            0.692398             0.411653   \n",
      "9996  Config_9996            0.608918             0.390749   \n",
      "9997  Config_9997            0.562112             0.427796   \n",
      "9998  Config_9998            0.534042             0.348712   \n",
      "9999  Config_9999            0.714615             0.395510   \n",
      "\n",
      "      HandleX@Mainsketch  HandleY@Mainsketch  Arm@Mainsketch   \n",
      "0               0.480960            0.637631        0.613393  \\\n",
      "1               0.479903            0.394078        0.677262   \n",
      "2               0.408428            0.597882        0.625848   \n",
      "3               0.505000            0.689000        0.642506   \n",
      "4               0.494903            0.333078        0.605950   \n",
      "...                  ...                 ...             ...   \n",
      "9995            0.462813            0.616523        0.655052   \n",
      "9996            0.534713            0.711123        0.632336   \n",
      "9997            0.313642            0.655623        0.643351   \n",
      "9998            0.515702            0.599167        0.649032   \n",
      "9999            0.354145            0.432138        0.598311   \n",
      "\n",
      "      SaddleX+.2@Mainsketch  CrankLength@Mainsketch  LowerLeg@Mainsketch   \n",
      "0                  0.414200                0.175000             0.530560  \\\n",
      "1                  0.390000                0.165000             0.520241   \n",
      "2                  0.321000                0.175000             0.477640   \n",
      "3                  0.423000                0.175000             0.555489   \n",
      "4                  0.395000                0.170000             0.515562   \n",
      "...                     ...                     ...                  ...   \n",
      "9995               0.430284                0.154418             0.501449   \n",
      "9996               0.491370                0.182946             0.477061   \n",
      "9997               0.282266                0.192939             0.530191   \n",
      "9998               0.317035                0.171639             0.484832   \n",
      "9999               0.419347                0.147362             0.524843   \n",
      "\n",
      "      TorsoLength@Mainsketch  Neckandhead@Mainsketch  TorsoWidth@Widthdef  \n",
      "0                   0.544560                0.291510             0.362584  \n",
      "1                   0.491640                0.328007             0.330804  \n",
      "2                   0.534241                0.298627             0.377811  \n",
      "3                   0.499273                0.274318             0.356641  \n",
      "4                   0.550727                0.314776             0.291908  \n",
      "...                      ...                     ...                  ...  \n",
      "9995                0.576057                0.318917             0.358162  \n",
      "9996                0.541120                0.255588             0.394962  \n",
      "9997                0.531289                0.328675             0.347390  \n",
      "9998                0.507521                0.295604             0.342334  \n",
      "9999                0.546747                0.323250             0.272876  \n",
      "\n",
      "[10000 rows x 12 columns]\n"
     ]
    }
   ],
   "source": [
    "all_config_df.rename(columns={\"Unnamed: 0\": \"Config ID\"}, inplace=True)\n",
    "print(all_config_df)"
   ]
  },
  {
   "cell_type": "code",
   "execution_count": null,
   "metadata": {},
   "outputs": [],
   "source": [
    "\n",
    "all_with_aug_df.to_csv(\"/Users/noahwiley/Documents/Bike UROP/MeasureML-main/Frame Datasets/aero_data_augmented_id.csv\", index= False)"
   ]
  },
  {
   "cell_type": "code",
   "execution_count": null,
   "metadata": {},
   "outputs": [],
   "source": []
  }
 ],
 "metadata": {
  "kernelspec": {
   "display_name": "Python 3",
   "language": "python",
   "name": "python3"
  },
  "language_info": {
   "codemirror_mode": {
    "name": "ipython",
    "version": 3
   },
   "file_extension": ".py",
   "mimetype": "text/x-python",
   "name": "python",
   "nbconvert_exporter": "python",
   "pygments_lexer": "ipython3",
   "version": "3.11.1"
  },
  "orig_nbformat": 4
 },
 "nbformat": 4,
 "nbformat_minor": 2
}
